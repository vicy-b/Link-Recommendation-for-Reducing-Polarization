{
 "cells": [
  {
   "cell_type": "markdown",
   "metadata": {},
   "source": [
    "# Link Recommendation for Reducing Polarization in Social Networks"
   ]
  },
  {
   "cell_type": "markdown",
   "metadata": {},
   "source": [
    "## Data Setup"
   ]
  },
  {
   "cell_type": "code",
   "execution_count": 5,
   "metadata": {},
   "outputs": [],
   "source": [
    "import networkx as nx\n",
    "\n",
    "KarateGraph = nx.read_gml(\"karate.gml\", None)\n",
    "\n",
    "ground_truth_as_sets = [{20, 1, 2, 22, 3, 5, 4, 7, 6, 8, 11, 13, 12, 14, 18, 10, 17},\n",
    "                {24, 26, 28, 33, 30, 34, 25, 32, 27, 21, 23, 29, 9, 31, 15, 16, 19}]\n",
    "\n",
    "\n",
    "ground_truth_group1 = range(34)\n",
    "ground_truth_group1 = [1 if x in ground_truth_as_sets[0] else 0 for x in range(1,35)]\n",
    "ground_truth_group2 = [1 if x in ground_truth_as_sets[1] else 0 for x in range(1,35)]\n",
    "\n",
    "# import does not work for following graph\n",
    "#BlogsGraph = nx.read_gml(\"polblogs.gml\", label=\"value\")\n",
    "BooksGraph = nx.read_gml(\"polbooks.gml\", None)\n"
   ]
  },
  {
   "cell_type": "code",
   "execution_count": null,
   "metadata": {},
   "outputs": [],
   "source": []
  }
 ],
 "metadata": {
  "interpreter": {
   "hash": "f9f85f796d01129d0dd105a088854619f454435301f6ffec2fea96ecbd9be4ac"
  },
  "kernelspec": {
   "display_name": "Python 3.9.5 64-bit",
   "language": "python",
   "name": "python3"
  },
  "language_info": {
   "codemirror_mode": {
    "name": "ipython",
    "version": 3
   },
   "file_extension": ".py",
   "mimetype": "text/x-python",
   "name": "python",
   "nbconvert_exporter": "python",
   "pygments_lexer": "ipython3",
   "version": "3.9.5"
  },
  "orig_nbformat": 4
 },
 "nbformat": 4,
 "nbformat_minor": 2
}
