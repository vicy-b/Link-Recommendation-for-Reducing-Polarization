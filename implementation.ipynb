{
 "cells": [
  {
   "cell_type": "markdown",
   "metadata": {},
   "source": [
    "# Link Recommendation for Reducing Polarization in Social Networks"
   ]
  },
  {
   "cell_type": "markdown",
   "metadata": {},
   "source": [
    "## Basic Classes for Calculation"
   ]
  },
  {
   "cell_type": "code",
   "execution_count": 27,
   "metadata": {},
   "outputs": [],
   "source": [
    "import networkx as nx\n",
    "import numpy\n",
    "\n",
    "\n",
    "class PolarizationGraph:\n",
    "    polarization = 0\n",
    "\n",
    "    def __init__(self, graph: nx.Graph, internal_opinions: list):\n",
    "        self.nx_graph = graph\n",
    "        # the internal_opinions list contains a dict for each node in the form {\"value\" : x, \"polarization\": y}\n",
    "        self.internal_opinions = internal_opinions\n",
    "        self.external_opinions = [\n",
    "            {\"value\": x[\"value\"], \"polarization\": 0} for x in internal_opinions]\n",
    "\n",
    "    def setExternal(self, new_external: list):\n",
    "        self.external_opinions = new_external\n",
    "\n",
    "\n",
    "class PolarizationHandler:\n",
    "    def calcExternalOpinions(graph: PolarizationGraph) -> list:\n",
    "        expressed = []\n",
    "\n",
    "        for iter in range(1000):\n",
    "            for n in graph.nx_graph.nodes():\n",
    "                node_name = n if isinstance(n, int) else n[0]\n",
    "                my_internal = next(\n",
    "                    x[\"polarization\"] for x in graph.internal_opinions if x[\"value\"] == node_name)\n",
    "                my_neighbours = list(nx.neighbors(graph.nx_graph, n))\n",
    "                external_neighbours = [\n",
    "                    x[\"polarization\"] for x in graph.external_opinions if x[\"value\"] in my_neighbours]\n",
    "                my_expressed = (my_internal + numpy.sum(external_neighbours)) / \\\n",
    "                    (1 + numpy.sum([1 for neigh in my_neighbours]))\n",
    "\n",
    "                if len(expressed) != len(graph.external_opinions):\n",
    "                    expressed.append(\n",
    "                        {\"value\": node_name, \"polarization\": my_expressed})\n",
    "                else:\n",
    "                    my_set = next(\n",
    "                        s for s in expressed if s[\"value\"] == node_name)\n",
    "                    my_set[\"polarization\"] = my_expressed\n",
    "\n",
    "            graph.setExternal(expressed)\n",
    "            # print(PolarizationHandler.calcPolarization(graph))\n",
    "\n",
    "        return expressed\n",
    "\n",
    "    def calcPolarization(graph: PolarizationGraph) -> float:\n",
    "        polArr = [x[\"polarization\"] for x in graph.external_opinions]\n",
    "        nbrNodes = nx.number_of_nodes(graph.nx_graph)\n",
    "        return numpy.linalg.norm(polArr) / nbrNodes\n"
   ]
  },
  {
   "cell_type": "markdown",
   "metadata": {},
   "source": [
    "## Data Setup"
   ]
  },
  {
   "cell_type": "code",
   "execution_count": 28,
   "metadata": {},
   "outputs": [
    {
     "name": "stdout",
     "output_type": "stream",
     "text": [
      "0.10221847999166145\n",
      "0.10221847999166145\n",
      "0.06431294911675486\n"
     ]
    }
   ],
   "source": [
    "import networkx as nx\n",
    "\n",
    "KarateGraph = nx.read_gml(\"karate.gml\", None)\n",
    "BooksGraph = nx.read_gml(\"polbooks.gml\", None)\n",
    "\n",
    "ground_truth_as_sets = [{20, 1, 2, 22, 3, 5, 4, 7, 6, 8, 11, 13, 12, 14, 18, 10, 17},\n",
    "                        {24, 26, 28, 33, 30, 34, 25, 32, 27, 21, 23, 29, 9, 31, 15, 16, 19}]\n",
    "\n",
    "internal_karate = []\n",
    "internal_books = []\n",
    "\n",
    "for i in range(1, 35):\n",
    "    polarization = -1 if i in ground_truth_as_sets[0] else 1\n",
    "    internal_karate.append({\"value\": i, \"polarization\": polarization})\n",
    "\n",
    "for n in BooksGraph.nodes.data():\n",
    "    polarization = 0 if n[1][\"value\"] == \"n\" else - \\\n",
    "        1 if n[1][\"value\"] == \"c\" else 1\n",
    "    internal_books.append({\"value\": n[0], \"polarization\": polarization})\n",
    "\n",
    "KaratePolGraph = PolarizationGraph(KarateGraph, internal_karate)\n",
    "BooksPolGraph = PolarizationGraph(BooksGraph, internal_books)\n",
    "\n",
    "KaratePolGraph.setExternal(PolarizationHandler.calcExternalOpinions(KaratePolGraph))\n",
    "print(PolarizationHandler.calcPolarization(KaratePolGraph))\n",
    "\n",
    "for gr in [\n",
    "    KaratePolGraph, \n",
    "    BooksPolGraph\n",
    "]:\n",
    "    exprOpinions = PolarizationHandler.calcExternalOpinions(gr)\n",
    "    gr.setExternal(exprOpinions)\n",
    "    gr.polarization = PolarizationHandler.calcPolarization(gr)\n",
    "    print(gr.polarization)\n"
   ]
  },
  {
   "cell_type": "code",
   "execution_count": null,
   "metadata": {},
   "outputs": [],
   "source": []
  }
 ],
 "metadata": {
  "interpreter": {
   "hash": "f9f85f796d01129d0dd105a088854619f454435301f6ffec2fea96ecbd9be4ac"
  },
  "kernelspec": {
   "display_name": "Python 3.9.5 64-bit",
   "language": "python",
   "name": "python3"
  },
  "language_info": {
   "codemirror_mode": {
    "name": "ipython",
    "version": 3
   },
   "file_extension": ".py",
   "mimetype": "text/x-python",
   "name": "python",
   "nbconvert_exporter": "python",
   "pygments_lexer": "ipython3",
   "version": "3.9.5"
  },
  "orig_nbformat": 4
 },
 "nbformat": 4,
 "nbformat_minor": 2
}
