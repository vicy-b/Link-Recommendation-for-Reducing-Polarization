{
 "cells": [
  {
   "cell_type": "markdown",
   "metadata": {},
   "source": [
    "# Link Recommendation for Reducing Polarization in Social Networks"
   ]
  },
  {
   "cell_type": "markdown",
   "metadata": {},
   "source": [
    "## Basic Classes for Calculation"
   ]
  },
  {
   "cell_type": "code",
   "execution_count": 14,
   "metadata": {},
   "outputs": [],
   "source": [
    "import networkx as nx\n",
    "import numpy\n",
    "\n",
    "\n",
    "class PolarizationGraph:\n",
    "    polarization = 0\n",
    "\n",
    "    def __init__(self, graph: nx.Graph, internal_opinions: list):\n",
    "        self.nx_graph = graph\n",
    "        # the internal_opinions list contains a dict for each node in the form {\"value\" : x, \"polarization\": y}\n",
    "        self.internal_opinions = internal_opinions\n",
    "        self.external_opinions = [\n",
    "            {\"value\": x[\"value\"], \"polarization\": 0} for x in internal_opinions]\n",
    "\n",
    "    def setExternal(self, new_external: list):\n",
    "        self.external_opinions = new_external\n",
    "\n",
    "\n",
    "class PolarizationHandler:\n",
    "    def calcExternalOpinions(graph: PolarizationGraph) -> list:\n",
    "        expressed = []\n",
    "\n",
    "        for iter in range(1000):\n",
    "            for n in graph.nx_graph.nodes():\n",
    "                node_name = n if isinstance(n, int) else n[0]\n",
    "                my_internal = next(\n",
    "                    x[\"polarization\"] for x in graph.internal_opinions if x[\"value\"] == node_name)\n",
    "                my_neighbours = list(nx.neighbors(graph.nx_graph, n))\n",
    "                external_neighbours = [\n",
    "                    x[\"polarization\"] for x in graph.external_opinions if x[\"value\"] in my_neighbours]\n",
    "                my_expressed = (my_internal + numpy.sum(external_neighbours)) / \\\n",
    "                    (1 + numpy.sum([1 for neigh in my_neighbours]))\n",
    "\n",
    "                if len(expressed) != len(graph.external_opinions):\n",
    "                    expressed.append(\n",
    "                        {\"value\": node_name, \"polarization\": my_expressed})\n",
    "                else:\n",
    "                    my_set = next(\n",
    "                        s for s in expressed if s[\"value\"] == node_name)\n",
    "                    my_set[\"polarization\"] = my_expressed\n",
    "\n",
    "            graph.setExternal(expressed)\n",
    "            # print(PolarizationHandler.calcPolarization(graph))\n",
    "\n",
    "        return expressed\n",
    "\n",
    "    def calcPolarization(graph: PolarizationGraph) -> float:\n",
    "        polArr = [x[\"polarization\"] for x in graph.external_opinions]\n",
    "        nbrNodes = nx.number_of_nodes(graph.nx_graph)\n",
    "        return numpy.linalg.norm(polArr) / nbrNodes\n",
    "\n",
    "class HeuristicsHandler:\n",
    "    def getExtremeExpressed(graph: PolarizationGraph, nbr_of_nodes_to_neutralize=None) -> list:\n",
    "        external_opinions = graph.external_opinions\n",
    "        \n",
    "        sorted_list = sorted(external_opinions, key=lambda x: x[\"polarization\"], reverse=True)\n",
    "        \n",
    "        if nbr_of_nodes_to_neutralize is None:\n",
    "            return sorted_list\n",
    "        else:\n",
    "            return sorted_list[0:nbr_of_nodes_to_neutralize]\n",
    "        \"\"\"\n",
    "        iter = 0\n",
    "        while (iter < nbr_of_nodes_to_neutralize):\n",
    "            most_extreme_opinion = 0\n",
    "            node_to_neutralize = 0\n",
    "            for x in external_opinions:\n",
    "                current_abs_opinion = abs(x[\"polarization\"])\n",
    "                if current_abs_opinion > most_extreme_opinion:\n",
    "                    most_extreme_opinion = current_abs_opinion\n",
    "                    node_to_neutralize = x[\"value\"]\n",
    "            external_opinions[node_to_neutralize - 1] = {\"value\": node_to_neutralize, \"polarization\": 0}\n",
    "            graph.setExternal(PolarizationHandler.calcExternalOpinions(graph))\n",
    "            external_opinions = graph.external_opinions\n",
    "            iter+=1\n",
    "        return graph\n",
    "        \"\"\"\n",
    "        \n",
    "    def getExtremeNeighbours(graph: PolarizationGraph, nbr_extreme_neighborhoods = None) -> list:\n",
    "        neighbourhood_extremities = []\n",
    "        for n in graph.nx_graph.nodes():\n",
    "            n_neighbours = list(nx.neighbors(graph.nx_graph, n))\n",
    "            external_neighbours = [x[\"polarization\"] for x in graph.external_opinions if x[\"value\"] in n_neighbours]\n",
    "            n_neighbourhood_extremity = sum(map(abs, external_neighbours))\n",
    "            n_dict = {\"value\": n, \"neighbourhood_extremity\": n_neighbourhood_extremity}\n",
    "            neighbourhood_extremities.append(n_dict)\n",
    "        \n",
    "        neighbourhood_extremities = sorted(neighbourhood_extremities, key=lambda x: x[\"neighbourhood_extremity\"], reverse=True)\n",
    "        \n",
    "        if nbr_extreme_neighborhoods is None:\n",
    "            return neighbourhood_extremities\n",
    "        else:\n",
    "            return neighbourhood_extremities[0:nbr_extreme_neighborhoods]"
   ]
  },
  {
   "cell_type": "markdown",
   "metadata": {},
   "source": [
    "# Data Setup"
   ]
  },
  {
   "cell_type": "code",
   "execution_count": 16,
   "metadata": {},
   "outputs": [
    {
     "name": "stdout",
     "output_type": "stream",
     "text": [
      "0.10221847999166145\n",
      "0.10221847999166145\n",
      "0.06431294911675486\n",
      "[{'value': 1, 'neighbourhood_extremity': 8.897097452788781}, {'value': 34, 'neighbourhood_extremity': 8.89649868858028}, {'value': 33, 'neighbourhood_extremity': 6.3304831347863475}, {'value': 3, 'neighbourhood_extremity': 4.352280005500802}, {'value': 2, 'neighbourhood_extremity': 4.087697906008064}, {'value': 32, 'neighbourhood_extremity': 3.2781979877740506}, {'value': 6, 'neighbourhood_extremity': 2.8750769768279167}, {'value': 7, 'neighbourhood_extremity': 2.8750769768279167}, {'value': 24, 'neighbourhood_extremity': 2.859869905624605}, {'value': 4, 'neighbourhood_extremity': 2.650221862322876}, {'value': 30, 'neighbourhood_extremity': 2.3256729502871853}, {'value': 14, 'neighbourhood_extremity': 2.056237687933689}, {'value': 5, 'neighbourhood_extremity': 2.0250667132508613}, {'value': 11, 'neighbourhood_extremity': 2.0250667132508613}, {'value': 9, 'neighbourhood_extremity': 2.0028638636068794}, {'value': 28, 'neighbourhood_extremity': 1.9197294603243629}, {'value': 26, 'neighbourhood_extremity': 1.7845680069134342}, {'value': 31, 'neighbourhood_extremity': 1.6971899571501035}, {'value': 25, 'neighbourhood_extremity': 1.6846661618303287}, {'value': 8, 'neighbourhood_extremity': 1.6147652877076435}, {'value': 17, 'neighbourhood_extremity': 1.5500307907311668}, {'value': 20, 'neighbourhood_extremity': 1.370998553184263}, {'value': 27, 'neighbourhood_extremity': 1.1066069902834827}, {'value': 29, 'neighbourhood_extremity': 1.0753410844477647}, {'value': 13, 'neighbourhood_extremity': 1.0152449056186876}, {'value': 15, 'neighbourhood_extremity': 0.9801589692552568}, {'value': 16, 'neighbourhood_extremity': 0.9801589692552568}, {'value': 19, 'neighbourhood_extremity': 0.9801589692552568}, {'value': 21, 'neighbourhood_extremity': 0.9801589692552568}, {'value': 23, 'neighbourhood_extremity': 0.9801589692552568}, {'value': 18, 'neighbourhood_extremity': 0.9295261529582173}, {'value': 22, 'neighbourhood_extremity': 0.9295261529582173}, {'value': 10, 'neighbourhood_extremity': 0.6052512689293466}, {'value': 12, 'neighbourhood_extremity': 0.4937846395725625}]\n"
     ]
    }
   ],
   "source": [
    "import networkx as nx\n",
    "\n",
    "KarateGraph = nx.read_gml(\"karate.gml\", None)\n",
    "BooksGraph = nx.read_gml(\"polbooks.gml\", None)\n",
    "\n",
    "ground_truth_as_sets = [{20, 1, 2, 22, 3, 5, 4, 7, 6, 8, 11, 13, 12, 14, 18, 10, 17},\n",
    "                        {24, 26, 28, 33, 30, 34, 25, 32, 27, 21, 23, 29, 9, 31, 15, 16, 19}]\n",
    "\n",
    "internal_karate = []\n",
    "internal_books = []\n",
    "\n",
    "for i in range(1, 35):\n",
    "    polarization = -1 if i in ground_truth_as_sets[0] else 1\n",
    "    internal_karate.append({\"value\": i, \"polarization\": polarization})\n",
    "\n",
    "for n in BooksGraph.nodes.data():\n",
    "    polarization = 0 if n[1][\"value\"] == \"n\" else - \\\n",
    "        1 if n[1][\"value\"] == \"c\" else 1\n",
    "    internal_books.append({\"value\": n[0], \"polarization\": polarization})\n",
    "\n",
    "KaratePolGraph = PolarizationGraph(KarateGraph, internal_karate)\n",
    "BooksPolGraph = PolarizationGraph(BooksGraph, internal_books)\n",
    "\n",
    "KaratePolGraph.setExternal(PolarizationHandler.calcExternalOpinions(KaratePolGraph))\n",
    "print(PolarizationHandler.calcPolarization(KaratePolGraph))\n",
    "\n",
    "\n",
    "for gr in [\n",
    "    KaratePolGraph, \n",
    "    BooksPolGraph\n",
    "]:\n",
    "    exprOpinions = PolarizationHandler.calcExternalOpinions(gr)\n",
    "    gr.setExternal(exprOpinions)\n",
    "    gr.polarization = PolarizationHandler.calcPolarization(gr)\n",
    "    print(gr.polarization)\n",
    "\n",
    "nodes_to_influence = HeuristicsHandler.getExtremeNeighbours(KaratePolGraph)\n",
    "print(nodes_to_influence)"
   ]
  },
  {
   "cell_type": "code",
   "execution_count": null,
   "metadata": {},
   "outputs": [],
   "source": []
  }
 ],
 "metadata": {
  "interpreter": {
   "hash": "f9f85f796d01129d0dd105a088854619f454435301f6ffec2fea96ecbd9be4ac"
  },
  "kernelspec": {
   "display_name": "Python 3 (ipykernel)",
   "language": "python",
   "name": "python3"
  },
  "language_info": {
   "codemirror_mode": {
    "name": "ipython",
    "version": 3
   },
   "file_extension": ".py",
   "mimetype": "text/x-python",
   "name": "python",
   "nbconvert_exporter": "python",
   "pygments_lexer": "ipython3",
   "version": "3.9.7"
  }
 },
 "nbformat": 4,
 "nbformat_minor": 2
}
